{
 "cells": [
  {
   "cell_type": "markdown",
   "metadata": {},
   "source": [
    "# Task 1: Slide 46\n",
    "### Simple regression using car data for car price of a car (kms vs price)"
   ]
  },
  {
   "cell_type": "markdown",
   "metadata": {},
   "source": [
    "## Looking at the data"
   ]
  },
  {
   "cell_type": "code",
   "execution_count": 189,
   "metadata": {},
   "outputs": [],
   "source": [
    "import numpy as np\n",
    "import matplotlib.pyplot as plt\n",
    "\n",
    "# import useful libraries\n",
    "import numpy as np\n",
    "import matplotlib.pyplot as plt\n",
    "from mpl_toolkits.mplot3d import Axes3D\n",
    "import scipy.stats as stats\n",
    "import csv\n",
    "# this line plots graphs in line\n",
    "%matplotlib inline\n"
   ]
  },
  {
   "cell_type": "code",
   "execution_count": 190,
   "metadata": {},
   "outputs": [
    {
     "name": "stdout",
     "output_type": "stream",
     "text": [
      "['96000', '5500']\n",
      "['145000', '5300']\n",
      "['322395', '2000']\n",
      "['40000', '6000']\n",
      "['112000', '7000']\n",
      "['202000', '2400']\n",
      "['67000', '14500']\n",
      "['39000', '7200']\n",
      "['120000', '10000']\n",
      "['191158', '1800']\n",
      "['140000', '2800']\n",
      "['77668', '2750']\n",
      "['727', '35000']\n",
      "['58000', '4800']\n",
      "['76303', '4000']\n",
      "['138000', '8000']\n"
     ]
    }
   ],
   "source": [
    "# downloaded on 13/12/2020\n",
    "import csv\n",
    "data=[]\n",
    "roww=[]\n",
    "with open('cars.csv', 'r') as file:\n",
    "    reader = csv.reader(file)\n",
    "    for row in reader:\n",
    "        roww=[]\n",
    "        print(row)\n",
    "        roww=([float(row[0]),float(row[1])])\n",
    "        data.append(roww)\n"
   ]
  },
  {
   "cell_type": "code",
   "execution_count": 191,
   "metadata": {},
   "outputs": [],
   "source": [
    "data= np.array(data)"
   ]
  },
  {
   "cell_type": "code",
   "execution_count": 192,
   "metadata": {},
   "outputs": [
    {
     "data": {
      "text/plain": [
       "array([[ 96000.,   5500.],\n",
       "       [145000.,   5300.],\n",
       "       [322395.,   2000.],\n",
       "       [ 40000.,   6000.],\n",
       "       [112000.,   7000.],\n",
       "       [202000.,   2400.],\n",
       "       [ 67000.,  14500.],\n",
       "       [ 39000.,   7200.],\n",
       "       [120000.,  10000.],\n",
       "       [191158.,   1800.],\n",
       "       [140000.,   2800.],\n",
       "       [ 77668.,   2750.],\n",
       "       [   727.,  35000.],\n",
       "       [ 58000.,   4800.],\n",
       "       [ 76303.,   4000.],\n",
       "       [138000.,   8000.]])"
      ]
     },
     "execution_count": 192,
     "metadata": {},
     "output_type": "execute_result"
    }
   ],
   "source": [
    "data"
   ]
  },
  {
   "cell_type": "code",
   "execution_count": 123,
   "metadata": {},
   "outputs": [
    {
     "data": {
      "image/png": "[encoded data removed]",
      "text/plain": [
       "<Figure size 432x288 with 1 Axes>"
      ]
     },
     "metadata": {
      "needs_background": "light"
     },
     "output_type": "display_data"
    }
   ],
   "source": [
    "cars =plt.scatter(data[:,0],data[:,1], marker='o', color = 'b' )\n",
    "\n",
    "plt.xlabel('KMs')\n",
    "plt.ylabel('Price')\n",
    "plt.title('Scatter plot of KMs vs Price in Euro')\n",
    "\n",
    "plt.show()"
   ]
  },
  {
   "cell_type": "markdown",
   "metadata": {},
   "source": [
    "## Manually trying to fit a line (just to get oriented)"
   ]
  },
  {
   "cell_type": "code",
   "execution_count": 124,
   "metadata": {},
   "outputs": [
    {
     "data": {
      "image/png": "[encoded data removed]",
      "text/plain": [
       "<Figure size 432x288 with 1 Axes>"
      ]
     },
     "metadata": {
      "needs_background": "light"
     },
     "output_type": "display_data"
    }
   ],
   "source": [
    "\n",
    "# eqn of line : y = mx + c\n",
    "# Changing these manualy till I get something I am happy with\n",
    "c= 15000\n",
    "m =-0.05\n",
    "\n",
    "#I just want to generate a bunch of x values so that I can see the line\n",
    "x =np.array([0,300000])\n",
    "y = m*x +c\n",
    "\n",
    "#plotting scatter plot \n",
    "students =plt.scatter(data[:,0],data[:,1], marker='o', color = 'b' )\n",
    "\n",
    "plt.xlabel('KMs')\n",
    "plt.ylabel('Price')\n",
    "plt.title('Scatter plot of KMs vs Price in Euro')\n",
    "\n",
    "plt.plot(x,y, 'g')\n",
    "\n",
    "plt.show()\n"
   ]
  },
  {
   "cell_type": "markdown",
   "metadata": {},
   "source": [
    "## Ok, now I want a form of metric to measure distacne from each sample to my line\n",
    "(even though I don't have my line yet, I think I need this to figure out the error, so I can minimise it) \n",
    "Params: line points (x and y), and the line m and c)\n",
    "Returns: A numeric value, representing my error\n"
   ]
  },
  {
   "cell_type": "code",
   "execution_count": 125,
   "metadata": {},
   "outputs": [],
   "source": [
    "def squareError(x,y, m,c):\n",
    "    predictedValue = m*x +c\n",
    "    err = predictedValue - y\n",
    "    return err **2\n",
    "    "
   ]
  },
  {
   "cell_type": "markdown",
   "metadata": {},
   "source": [
    "## Just for the sake of trying, I am going to try fit m and c using random numbers.\n",
    "I guess I am cheating slightly by norrowing down my range with the values I found manually."
   ]
  },
  {
   "cell_type": "code",
   "execution_count": 126,
   "metadata": {},
   "outputs": [
    {
     "name": "stdout",
     "output_type": "stream",
     "text": [
      "------ Final -----\n",
      "Best error: 43872301.95601188\n",
      "Best weghts: [-0.05473226690970334, 13574.649593571408]\n"
     ]
    }
   ],
   "source": [
    "iterations = 100000\n",
    "maxM = 0\n",
    "minM = -1\n",
    "\n",
    "maxC =40000\n",
    "minC =5000\n",
    "\n",
    "\n",
    "Besterror =9999999999\n",
    "bestWeights=[0,0]\n",
    "errors = []\n",
    "\n",
    "for i in range(iterations):\n",
    "    #print(i)\n",
    "    errors = []\n",
    "\n",
    "    m = np.random.uniform(low=minM, high=maxM)\n",
    "    \n",
    "    c = np.random.uniform(low=minC, high=maxC)\n",
    "    currentVals = [m ,c]\n",
    "    for sample in data:\n",
    "        errors.append(squareError(sample[0], sample[1],m,c ))\n",
    "    Currenterror= sum(errors)/ len(data)\n",
    "   \n",
    "\n",
    "    if(Besterror > Currenterror):\n",
    "        bestWeights = currentVals\n",
    "        Besterror = Currenterror\n",
    "\n",
    "\n",
    "\n",
    "print(\"------ Final -----\")    \n",
    "print (\"Best error:\",Besterror)\n",
    "\n",
    "print(\"Best weghts:\",bestWeights)"
   ]
  },
  {
   "cell_type": "code",
   "execution_count": null,
   "metadata": {},
   "outputs": [],
   "source": []
  },
  {
   "cell_type": "markdown",
   "metadata": {},
   "source": [
    "## Now I can try it properly with gradient decesent "
   ]
  },
  {
   "cell_type": "code",
   "execution_count": null,
   "metadata": {},
   "outputs": [],
   "source": []
  },
  {
   "cell_type": "code",
   "execution_count": null,
   "metadata": {},
   "outputs": [],
   "source": []
  },
  {
   "cell_type": "code",
   "execution_count": 127,
   "metadata": {},
   "outputs": [],
   "source": [
    "xy = np.multiply(data[:,0],data[:,1])\n",
    "ySquared = np.square(data[:,1])\n",
    "xSquared = np.square(data[:,0])"
   ]
  },
  {
   "cell_type": "code",
   "execution_count": 128,
   "metadata": {},
   "outputs": [],
   "source": [
    "def f (m,c , data):\n",
    "    X = data[:,0]\n",
    "    Y = data[:,1]\n",
    "    return m**2  + (2*c*m*sum(X))- (2*m*sum(xy) )- (2*c*sum(Y))+ (2*(c**2))+ sum(ySquared)"
   ]
  },
  {
   "cell_type": "code",
   "execution_count": null,
   "metadata": {},
   "outputs": [],
   "source": []
  },
  {
   "cell_type": "code",
   "execution_count": 47,
   "metadata": {},
   "outputs": [],
   "source": [
    "#Partial differntiantios on X and Y\n",
    "def df_dc(m,c,data):\n",
    "    return (m*sum(data[:,0])) -sum(data[:,1]) + (len(data)*c)\n",
    "def df_dm(m,c,data):\n",
    "    return (m*(sum(xSquared))) + (c*sum(data[:,0])) -(sum(xy))\n"
   ]
  },
  {
   "cell_type": "code",
   "execution_count": 129,
   "metadata": {},
   "outputs": [
    {
     "name": "stdout",
     "output_type": "stream",
     "text": [
      "-0.032297668589456756 10000.018000522607\n"
     ]
    }
   ],
   "source": [
    "# Building the model\n",
    "m = 0\n",
    "c = 10000\n",
    "\n",
    "L = 0.000000000001  # The learning Rate\n",
    "interations = 1000000 # The number of iterations to perform gradient descent\n",
    "inputC =np.zeros(interations)\n",
    "inputM=np.zeros(interations)\n",
    "\n",
    "n = (len(data)) # Number of elements in X\n",
    "\n",
    "# Performing Gradient Descent \n",
    "for i in range(interations): \n",
    "\n",
    "    #print (m, c)\n",
    "\n",
    "    \n",
    "    #calculate how much we want to change, ie the change from the differencation (how much we move done the slope)\n",
    "    delatM = df_dm(m,c,data)  \n",
    "    deltaC = df_dc(m,c,data)  \n",
    "    m = m - L * delatM  # Update m\n",
    "    c = c - L * deltaC  # Update c\n",
    "    #Storing these to try plot them later\n",
    "    inputM[i]= m\n",
    "    inputC[i]= c\n",
    "    \n",
    "print (m, c)"
   ]
  },
  {
   "cell_type": "markdown",
   "metadata": {},
   "source": [
    "### Having issues with overflow and time, going to scale"
   ]
  },
  {
   "cell_type": "code",
   "execution_count": 195,
   "metadata": {},
   "outputs": [
    {
     "name": "stdout",
     "output_type": "stream",
     "text": [
      "[[-0.23877094 -0.24846316]\n",
      " [ 0.40840545 -0.27406967]\n",
      " [ 2.75138207 -0.69657706]\n",
      " [-0.97840109 -0.18444688]\n",
      " [-0.02744804 -0.05641434]\n",
      " [ 1.16124328 -0.64536405]\n",
      " [-0.6217937   0.90382975]\n",
      " [-0.99160877 -0.03080783]\n",
      " [ 0.07821341  0.32768329]\n",
      " [ 1.0180456  -0.72218357]\n",
      " [ 0.34236704 -0.59415103]\n",
      " [-0.48089415 -0.60055266]\n",
      " [-1.49710636  3.52849692]\n",
      " [-0.74066283 -0.33808594]\n",
      " [-0.49892264 -0.44051197]\n",
      " [ 0.31595168  0.0716182 ]]\n"
     ]
    }
   ],
   "source": [
    "dataXScaled = (((data[:,0])-np.mean(data[:,0])) / np.std(data[:,0]))\n",
    "datayScaled = (((data[:,1])-np.mean(data[:,1])) / np.std(data[:,1]))\n",
    "dataScaled = [dataXScaled, datayScaled]\n",
    "\n",
    "dataS =np.array([dataXScaled,datayScaled] )\n",
    "\n",
    "dataS = np.transpose(dataS)\n",
    "print(dataS)"
   ]
  },
  {
   "cell_type": "code",
   "execution_count": 131,
   "metadata": {},
   "outputs": [
    {
     "data": {
      "text/plain": [
       "1.0"
      ]
     },
     "execution_count": 131,
     "metadata": {},
     "output_type": "execute_result"
    }
   ],
   "source": [
    "(dataS[:,0].std())"
   ]
  },
  {
   "cell_type": "markdown",
   "metadata": {},
   "source": [
    "#### Testing manually again"
   ]
  },
  {
   "cell_type": "code",
   "execution_count": 132,
   "metadata": {},
   "outputs": [
    {
     "data": {
      "image/png": "[encoded data removed]",
      "text/plain": [
       "<Figure size 432x288 with 1 Axes>"
      ]
     },
     "metadata": {
      "needs_background": "light"
     },
     "output_type": "display_data"
    }
   ],
   "source": [
    "data= dataS\n",
    "# eqn of line : y = mx + c\n",
    "# Changing these manualy till I get something I am happy with\n",
    "c= 0.5\n",
    "m =-0.4\n",
    "\n",
    "#I just want to generate a bunch of x values so that I can see the line\n",
    "x =np.array([-2,4])\n",
    "y = m*x +c\n",
    "\n",
    "#plotting scatter plot \n",
    "students =plt.scatter(data[:,0],data[:,1], marker='o', color = 'b' )\n",
    "\n",
    "plt.xlabel('KMs')\n",
    "plt.ylabel('Price')\n",
    "plt.title('Scatter plot of KMs vs Price in Euro')\n",
    "\n",
    "\n",
    "plt.plot(x,y, 'g')\n",
    "\n",
    "plt.show()"
   ]
  },
  {
   "cell_type": "code",
   "execution_count": 140,
   "metadata": {},
   "outputs": [
    {
     "name": "stdout",
     "output_type": "stream",
     "text": [
      "R squared:  0.2702680133204045\n"
     ]
    }
   ],
   "source": [
    "print(\"R squared: \", rSquared(m,c,data))"
   ]
  },
  {
   "cell_type": "code",
   "execution_count": 149,
   "metadata": {},
   "outputs": [
    {
     "name": "stdout",
     "output_type": "stream",
     "text": [
      "-0.4263895840193148 1.932419563628756e-28\n"
     ]
    }
   ],
   "source": [
    "# Building the model\n",
    "m = -0.5\n",
    "c = 0\n",
    "\n",
    "L = 0.0000000000000000005  # The learning Rate\n",
    "interations = 1000000 # The number of iterations to perform gradient descent\n",
    "inputC =np.zeros(interations)\n",
    "inputM=np.zeros(interations)\n",
    "\n",
    "n = (len(data)) # Number of elements in X\n",
    "\n",
    "# Performing Gradient Descent \n",
    "for i in range(interations): \n",
    "\n",
    "    #print (m, c)\n",
    "\n",
    "    errors = []\n",
    "    \n",
    "    #calculate how much we want to change, ie the change from the differencation (how much we move done the slope)\n",
    "    delatM = df_dm(m,c,data)  \n",
    "    deltaC = df_dc(m,c,data)  \n",
    "    m = m - L * delatM  # Update m\n",
    "    c = c - L * deltaC  # Update c\n",
    "    #Storing these to try plot them later\n",
    "    inputM[i]= m\n",
    "    inputC[i]= c\n",
    "    \n",
    "    for sample in data:\n",
    "        errors.append(squareError(sample[0], sample[1],m,c ))\n",
    "    Currenterror= sum(errors)/len(data)\n",
    "    #print(Currenterror)\n",
    "    if(Currenterror<0.5):\n",
    "        print(\"convergance\")\n",
    "        break\n",
    "    \n",
    "print (m, c)"
   ]
  },
  {
   "cell_type": "code",
   "execution_count": 150,
   "metadata": {},
   "outputs": [
    {
     "name": "stdout",
     "output_type": "stream",
     "text": [
      "R squared:  0.2702680228731169\n"
     ]
    }
   ],
   "source": [
    "print(\"R squared: \", rSquared(m,c,data))"
   ]
  },
  {
   "cell_type": "code",
   "execution_count": 153,
   "metadata": {},
   "outputs": [
    {
     "data": {
      "image/png": "[encoded data removed]",
      "text/plain": [
       "<Figure size 432x288 with 1 Axes>"
      ]
     },
     "metadata": {
      "needs_background": "light"
     },
     "output_type": "display_data"
    }
   ],
   "source": [
    "\n",
    "#using the m and c computed before, to see how it looks\n",
    "\n",
    "#I just want to generate a bunch of x values so that I can see the line\n",
    "x =np.array([-2,4])\n",
    "y = m*x +c\n",
    "\n",
    "#plotting scatter plot \n",
    "students =plt.scatter(data[:,0],data[:,1], marker='o', color = 'b' )\n",
    "\n",
    "\n",
    "plt.xlabel('KMs')\n",
    "plt.ylabel('Price')\n",
    "plt.title('Scatter plot of KMs vs Price in Euro')\n",
    "\n",
    "\n",
    "plt.plot(x,y, 'g')\n",
    "\n",
    "plt.show()\n"
   ]
  },
  {
   "cell_type": "code",
   "execution_count": null,
   "metadata": {},
   "outputs": [],
   "source": []
  },
  {
   "cell_type": "markdown",
   "metadata": {},
   "source": [
    "# Now I am going to consider the highest value as an outlier, and I will just eliminate it"
   ]
  },
  {
   "cell_type": "code",
   "execution_count": 198,
   "metadata": {},
   "outputs": [
    {
     "data": {
      "text/plain": [
       "array([[-0.23877094, -0.24846316],\n",
       "       [ 0.40840545, -0.27406967],\n",
       "       [ 2.75138207, -0.69657706],\n",
       "       [-0.97840109, -0.18444688],\n",
       "       [-0.02744804, -0.05641434],\n",
       "       [ 1.16124328, -0.64536405],\n",
       "       [-0.6217937 ,  0.90382975],\n",
       "       [-0.99160877, -0.03080783],\n",
       "       [ 0.07821341,  0.32768329],\n",
       "       [ 1.0180456 , -0.72218357],\n",
       "       [ 0.34236704, -0.59415103],\n",
       "       [-0.48089415, -0.60055266],\n",
       "       [-1.49710636,  3.52849692],\n",
       "       [-0.74066283, -0.33808594],\n",
       "       [-0.49892264, -0.44051197],\n",
       "       [ 0.31595168,  0.0716182 ]])"
      ]
     },
     "execution_count": 198,
     "metadata": {},
     "output_type": "execute_result"
    }
   ],
   "source": [
    "dataS"
   ]
  },
  {
   "cell_type": "code",
   "execution_count": 215,
   "metadata": {},
   "outputs": [],
   "source": [
    "Clean =dataS[:12]\n",
    "Clean2 =dataS[-3:]"
   ]
  },
  {
   "cell_type": "code",
   "execution_count": 216,
   "metadata": {},
   "outputs": [
    {
     "data": {
      "text/plain": [
       "array([[-0.74066283, -0.33808594],\n",
       "       [-0.49892264, -0.44051197],\n",
       "       [ 0.31595168,  0.0716182 ]])"
      ]
     },
     "execution_count": 216,
     "metadata": {},
     "output_type": "execute_result"
    }
   ],
   "source": [
    "Clean2"
   ]
  },
  {
   "cell_type": "code",
   "execution_count": 217,
   "metadata": {},
   "outputs": [],
   "source": [
    "Cleaned= Clean"
   ]
  },
  {
   "cell_type": "code",
   "execution_count": 218,
   "metadata": {},
   "outputs": [
    {
     "data": {
      "text/plain": [
       "array([[-0.23877094, -0.24846316],\n",
       "       [ 0.40840545, -0.27406967],\n",
       "       [ 2.75138207, -0.69657706],\n",
       "       [-0.97840109, -0.18444688],\n",
       "       [-0.02744804, -0.05641434],\n",
       "       [ 1.16124328, -0.64536405],\n",
       "       [-0.6217937 ,  0.90382975],\n",
       "       [-0.99160877, -0.03080783],\n",
       "       [ 0.07821341,  0.32768329],\n",
       "       [ 1.0180456 , -0.72218357],\n",
       "       [ 0.34236704, -0.59415103],\n",
       "       [-0.48089415, -0.60055266],\n",
       "       [-0.74066283, -0.33808594],\n",
       "       [-0.49892264, -0.44051197],\n",
       "       [ 0.31595168,  0.0716182 ]])"
      ]
     },
     "execution_count": 218,
     "metadata": {},
     "output_type": "execute_result"
    }
   ],
   "source": [
    "np.append(Clean, Clean2, axis=0)"
   ]
  },
  {
   "cell_type": "code",
   "execution_count": 265,
   "metadata": {},
   "outputs": [
    {
     "name": "stdout",
     "output_type": "stream",
     "text": [
      "-0.3630289196839915 -0.10000000000058169\n"
     ]
    }
   ],
   "source": [
    "# Building the model\n",
    "data=Cleaned\n",
    "m = -0.5\n",
    "c = -0.1\n",
    "\n",
    "L = 0.0000000000000001  # The learning Rate\n",
    "interations = 10000 # The number of iterations to perform gradient descent\n",
    "inputC =np.zeros(interations)\n",
    "inputM=np.zeros(interations)\n",
    "\n",
    "n = (len(data)) # Number of elements in X\n",
    "\n",
    "# Performing Gradient Descent \n",
    "for i in range(interations): \n",
    "\n",
    "    #print (m, c)\n",
    "\n",
    "    errors = []\n",
    "    \n",
    "    #calculate how much we want to change, ie the change from the differencation (how much we move done the slope)\n",
    "    delatM = df_dm(m,c,data)  \n",
    "    deltaC = df_dc(m,c,data)  \n",
    "    m = m - L * delatM  # Update m\n",
    "    c = c - L * deltaC  # Update c\n",
    "    #Storing these to try plot them later\n",
    "    inputM[i]= m\n",
    "    inputC[i]= c\n",
    "    \n",
    "    for sample in data:\n",
    "        errors.append(squareError(sample[0], sample[1],m,c ))\n",
    "    Currenterror= sum(errors)/len(data)\n",
    "    #print(Currenterror)\n",
    "    if(Currenterror<0.05):\n",
    "        print(\"convergance\")\n",
    "        break\n",
    "    \n",
    "print (m, c)"
   ]
  },
  {
   "cell_type": "code",
   "execution_count": 266,
   "metadata": {},
   "outputs": [
    {
     "name": "stdout",
     "output_type": "stream",
     "text": [
      "R squared:  0.22966963442067545\n"
     ]
    }
   ],
   "source": [
    "print(\"R squared: \", rSquared(m,c,data))"
   ]
  },
  {
   "cell_type": "code",
   "execution_count": 267,
   "metadata": {},
   "outputs": [
    {
     "data": {
      "image/png": "[encoded data removed]",
      "text/plain": [
       "<Figure size 432x288 with 1 Axes>"
      ]
     },
     "metadata": {
      "needs_background": "light"
     },
     "output_type": "display_data"
    }
   ],
   "source": [
    "\n",
    "#using the m and c computed before, to see how it looks\n",
    "\n",
    "#I just want to generate a bunch of x values so that I can see the line\n",
    "x =np.array([-2,4])\n",
    "y = m*x +c\n",
    "\n",
    "#plotting scatter plot \n",
    "students =plt.scatter(data[:,0],data[:,1], marker='o', color = 'b' )\n",
    "\n",
    "\n",
    "plt.xlabel('KMs')\n",
    "plt.ylabel('Price')\n",
    "plt.title('Scatter plot of KMs vs Price in Euro')\n",
    "\n",
    "\n",
    "plt.plot(x,y, 'g')\n",
    "\n",
    "plt.show()"
   ]
  },
  {
   "cell_type": "code",
   "execution_count": null,
   "metadata": {},
   "outputs": [],
   "source": []
  },
  {
   "cell_type": "code",
   "execution_count": null,
   "metadata": {},
   "outputs": [],
   "source": []
  },
  {
   "cell_type": "markdown",
   "metadata": {},
   "source": [
    "# Seeing R squared"
   ]
  },
  {
   "cell_type": "code",
   "execution_count": 145,
   "metadata": {},
   "outputs": [],
   "source": [
    "def rSquared(m,c , data):\n",
    "    Y =data[:,1]\n",
    "    X =data[:,0]\n",
    "    meanY = np.mean(Y)\n",
    "    predY = m*X +c\n",
    "    \n",
    "    numerator = sum((Y- predY)**2)\n",
    "    denumerator = sum((Y- meanY)**2)\n",
    "    \n",
    "    return 1-(numerator/denumerator)"
   ]
  },
  {
   "cell_type": "code",
   "execution_count": 146,
   "metadata": {},
   "outputs": [
    {
     "name": "stdout",
     "output_type": "stream",
     "text": [
      "R squared:  0.2702680228731169\n"
     ]
    }
   ],
   "source": [
    "print(\"R squared: \", rSquared(m,c,data))"
   ]
  },
  {
   "cell_type": "code",
   "execution_count": null,
   "metadata": {},
   "outputs": [],
   "source": []
  },
  {
   "cell_type": "code",
   "execution_count": null,
   "metadata": {},
   "outputs": [],
   "source": []
  },
  {
   "cell_type": "code",
   "execution_count": 151,
   "metadata": {},
   "outputs": [
    {
     "data": {
      "text/plain": [
       "<function matplotlib.pyplot.show(*args, **kw)>"
      ]
     },
     "execution_count": 151,
     "metadata": {},
     "output_type": "execute_result"
    },
    {
     "data": {
      "image/png": "[encoded data removed]",
      "text/plain": [
       "<Figure size 432x288 with 1 Axes>"
      ]
     },
     "metadata": {
      "needs_background": "light"
     },
     "output_type": "display_data"
    }
   ],
   "source": [
    "#trying to plot it, I  think I have a problem here\n",
    "\n",
    "minimumZ =f(inputM,inputC,data)\n",
    "\n",
    "\n",
    "#-------- Printing --------\n",
    "\n",
    "N=15\n",
    "x=np.linspace(0,2, N)\n",
    "y=np.linspace(-25,-20, N)\n",
    "\n",
    "\n",
    "X,Y = np.meshgrid(x,y)\n",
    "Z = f(X , Y,data)\n",
    "\n",
    "\n",
    "fig=plt.figure()\n",
    "ax = fig.add_subplot(111,projection=\"3d\")\n",
    "ax.plot_wireframe(X,Y,Z)\n",
    "\n",
    "\n",
    "ax.plot(inputM,inputC, minimumZ, 'ro')\n",
    "plt.show"
   ]
  },
  {
   "cell_type": "code",
   "execution_count": null,
   "metadata": {},
   "outputs": [],
   "source": []
  },
  {
   "cell_type": "code",
   "execution_count": null,
   "metadata": {},
   "outputs": [],
   "source": []
  },
  {
   "cell_type": "code",
   "execution_count": null,
   "metadata": {},
   "outputs": [],
   "source": []
  }
 ],
 "metadata": {
  "kernelspec": {
   "display_name": "Python 3",
   "language": "python",
   "name": "python3"
  },
  "language_info": {
   "codemirror_mode": {
    "name": "ipython",
    "version": 3
   },
   "file_extension": ".py",
   "mimetype": "text/x-python",
   "name": "python",
   "nbconvert_exporter": "python",
   "pygments_lexer": "ipython3",
   "version": "3.7.1"
  }
 },
 "nbformat": 4,
 "nbformat_minor": 2
}
