{
 "cells": [
  {
   "cell_type": "markdown",
   "metadata": {},
   "source": [
    "# Logistic regression - Notebook Sample\n",
    "\n"
   ]
  },
  {
   "cell_type": "markdown",
   "metadata": {},
   "source": [
    "## Imports"
   ]
  },
  {
   "cell_type": "code",
   "execution_count": 1,
   "metadata": {},
   "outputs": [],
   "source": [
    "import numpy as np\n",
    "import matplotlib.pyplot as plt\n",
    "from mpl_toolkits.mplot3d import Axes3D\n",
    "import pandas as pd\n",
    "# this line plots graphs in line\n",
    "%matplotlib inline\n"
   ]
  },
  {
   "cell_type": "markdown",
   "metadata": {},
   "source": [
    "## Importing the raw dataset"
   ]
  },
  {
   "cell_type": "code",
   "execution_count": 4,
   "metadata": {},
   "outputs": [],
   "source": [
    "# Data set is containted in the same path, in the archive folder\n",
    "dataset = pd.read_csv(\"archive/creditcard.csv\")"
   ]
  },
  {
   "cell_type": "code",
   "execution_count": 7,
   "metadata": {},
   "outputs": [],
   "source": [
    "#dataset.info()"
   ]
  },
  {
   "cell_type": "code",
   "execution_count": 8,
   "metadata": {},
   "outputs": [],
   "source": [
    "#dataset.head(20)"
   ]
  },
  {
   "cell_type": "markdown",
   "metadata": {},
   "source": [
    "## Undersampling\n",
    "This is done due to the large bias in the data"
   ]
  },
  {
   "cell_type": "code",
   "execution_count": 9,
   "metadata": {},
   "outputs": [],
   "source": [
    "def rands(row):\n",
    "    if( row ==0):\n",
    "        return  np.random.uniform(low=0, high=0.999)\n",
    "    else:\n",
    "        return 0\n",
    "    "
   ]
  },
  {
   "cell_type": "code",
   "execution_count": 18,
   "metadata": {},
   "outputs": [],
   "source": [
    "np.random.seed(0)\n",
    "dataset['rand'] =dataset.Class.apply(rands)\n",
    "dataUnder = dataset.drop(dataset[(dataset.rand > 0.00167) ].index)\n"
   ]
  },
  {
   "cell_type": "code",
   "execution_count": 19,
   "metadata": {},
   "outputs": [],
   "source": [
    "dataUnder=dataUnder.drop(['rand'], axis=1)"
   ]
  },
  {
   "cell_type": "code",
   "execution_count": 20,
   "metadata": {},
   "outputs": [
    {
     "name": "stdout",
     "output_type": "stream",
     "text": [
      "1    492\n",
      "0    468\n",
      "Name: Class, dtype: int64\n",
      "as a percentage of the whole dataset\n",
      "1    51.25\n",
      "0    48.75\n",
      "Name: Class, dtype: float64\n"
     ]
    },
    {
     "data": {
      "text/plain": [
       "<matplotlib.axes._subplots.AxesSubplot at 0x7fe284023cf8>"
      ]
     },
     "execution_count": 20,
     "metadata": {},
     "output_type": "execute_result"
    },
    {
     "data": {
      "image/png": "[encoded data removed]",
      "text/plain": [
       "<Figure size 432x288 with 1 Axes>"
      ]
     },
     "metadata": {
      "needs_background": "light"
     },
     "output_type": "display_data"
    }
   ],
   "source": [
    "fig, ax = plt.subplots()\n",
    "print(dataUnder.Class.value_counts())\n",
    "print(\"as a percentage of the whole dataset\")\n",
    "print((dataUnder.Class.value_counts()*100)/ len(dataUnder))\n",
    "dataUnder.Class.value_counts().plot(ax=ax, kind='bar')"
   ]
  },
  {
   "cell_type": "code",
   "execution_count": 21,
   "metadata": {},
   "outputs": [],
   "source": [
    "#shuffeling the order of the data\n",
    "dataUnderShuffled = dataUnder.sample(frac =1, random_state=1)"
   ]
  },
  {
   "cell_type": "code",
   "execution_count": 22,
   "metadata": {},
   "outputs": [],
   "source": [
    "#dataUnderShuffled.head()"
   ]
  },
  {
   "cell_type": "markdown",
   "metadata": {},
   "source": [
    "## Feature selection"
   ]
  },
  {
   "cell_type": "markdown",
   "metadata": {},
   "source": [
    "The time feature was removed since it was a feature relating the structre of the experiment. This feature represents the time elapsed since the start of the experiment, and has no relation to credit card fraud."
   ]
  },
  {
   "cell_type": "code",
   "execution_count": 25,
   "metadata": {},
   "outputs": [],
   "source": [
    "dataUnderShuffled=dataUnderShuffled.drop(['Time'], axis=1)"
   ]
  },
  {
   "cell_type": "markdown",
   "metadata": {},
   "source": [
    "#### Use of Corelation Matrix"
   ]
  },
  {
   "cell_type": "code",
   "execution_count": null,
   "metadata": {},
   "outputs": [],
   "source": []
  },
  {
   "cell_type": "code",
   "execution_count": null,
   "metadata": {},
   "outputs": [],
   "source": []
  },
  {
   "cell_type": "markdown",
   "metadata": {},
   "source": [
    "## Dimention Reduction\n",
    "Here we explore dimention reduction through the use of PCA"
   ]
  },
  {
   "cell_type": "code",
   "execution_count": null,
   "metadata": {},
   "outputs": [],
   "source": []
  },
  {
   "cell_type": "markdown",
   "metadata": {},
   "source": [
    "## Logistic Regression\n",
    "Below are the functions created to be used by the Logistic Regression Model"
   ]
  },
  {
   "cell_type": "markdown",
   "metadata": {},
   "source": [
    "Sigmoid - returns a probability of the instance being in class 1"
   ]
  },
  {
   "cell_type": "code",
   "execution_count": 26,
   "metadata": {},
   "outputs": [],
   "source": [
    "def sig_toGetProb(power):\n",
    "    return 1/(1+ np.exp(-power))\n"
   ]
  },
  {
   "cell_type": "markdown",
   "metadata": {},
   "source": [
    "This is the partial derivative of the cross Entropy cost funtion wrt to wrt weights"
   ]
  },
  {
   "cell_type": "code",
   "execution_count": 40,
   "metadata": {},
   "outputs": [],
   "source": [
    "\n",
    "\n",
    "def ent_partial(X, Y,W, M):\n",
    "    \n",
    "    z = np.dot(W, X.T)\n",
    "\n",
    "    yPred= sig_toGetProb(z)\n",
    "  \n",
    "    dotSum = np.dot((Y - yPred), X)\n",
    "    minus1OnM = (-1 / M)\n",
    "    \n",
    "    \n",
    "    return minus1OnM*dotSum\n"
   ]
  },
  {
   "cell_type": "markdown",
   "metadata": {},
   "source": [
    "Gradient Decent - Used to minimise cost"
   ]
  },
  {
   "cell_type": "code",
   "execution_count": 41,
   "metadata": {},
   "outputs": [],
   "source": [
    "def grad_decMACHINE(a, dataX, Y, W, iterations, M ):\n",
    "    # a -> the learning rate\n",
    "    # data -> containing a Class filed which is our Y. \n",
    "    # W starting wieghts\n",
    "    # interations -> how many iterations of gradient decent will be used.\n",
    "\n",
    "    # Performing Gradient Descent \n",
    "    for i in range(iterations):      \n",
    "        W = W - (a*ent_partial(dataX, Y, W , M))\n",
    "\n",
    "    return W"
   ]
  },
  {
   "cell_type": "markdown",
   "metadata": {},
   "source": [
    "# Running "
   ]
  },
  {
   "cell_type": "code",
   "execution_count": 42,
   "metadata": {},
   "outputs": [],
   "source": [
    "data = dataUnderShuffled.to_numpy()\n",
    "Split = 0.6\n",
    "SplitPosition = int(len(data)*Split)"
   ]
  },
  {
   "cell_type": "code",
   "execution_count": 43,
   "metadata": {},
   "outputs": [
    {
     "name": "stdout",
     "output_type": "stream",
     "text": [
      "Shape of train =  (576, 30)\n",
      "Shape of test =  (384, 30)\n"
     ]
    }
   ],
   "source": [
    "d_train= np.array(data[0:SplitPosition,:])\n",
    "d_test = np.array(data[SplitPosition:,:])\n",
    "print ('Shape of train = ',np.shape(d_train))\n",
    "print ('Shape of test = ',np.shape(d_test))\n"
   ]
  },
  {
   "cell_type": "code",
   "execution_count": 44,
   "metadata": {},
   "outputs": [
    {
     "name": "stdout",
     "output_type": "stream",
     "text": [
      "[[  0. 184.]\n",
      " [  1. 200.]]\n"
     ]
    }
   ],
   "source": [
    "\n",
    "(unique, counts) = np.unique(d_test[:, -1], return_counts=True)\n",
    "\n",
    "frequencies = np.asarray((unique, counts)).T\n",
    "\n",
    "\n",
    "print(frequencies)"
   ]
  },
  {
   "cell_type": "code",
   "execution_count": 45,
   "metadata": {},
   "outputs": [
    {
     "name": "stdout",
     "output_type": "stream",
     "text": [
      "[0.00548814 0.00715189 0.00602763 0.00544883 0.00423655 0.00645894\n",
      " 0.00437587 0.00891773 0.00963663 0.00383442 0.00791725 0.00528895\n",
      " 0.00568045 0.00925597 0.00071036 0.00087129 0.00020218 0.0083262\n",
      " 0.00778157 0.00870012 0.00978618 0.00799159 0.00461479 0.00780529\n",
      " 0.00118274 0.00639921 0.00143353 0.00944669 0.00521848]\n"
     ]
    }
   ],
   "source": [
    "currentData = d_train\n",
    "iterations = 100000\n",
    "M = len(currentData)\n",
    "np.random.seed(0)\n",
    "W = np.random.rand(np.shape(currentData)[1] -1)/100\n",
    "print(W)\n",
    "Y = currentData[:, -1]\n",
    "X = currentData[:,:-1]\n",
    "#print(np.shape(X))\n",
    "#print(np.shape(W))\n",
    "\n",
    "\n",
    "Weights = grad_decMACHINE(0.001, X, Y, W, iterations, M )"
   ]
  },
  {
   "cell_type": "code",
   "execution_count": 46,
   "metadata": {},
   "outputs": [
    {
     "name": "stdout",
     "output_type": "stream",
     "text": [
      "[-0.82875934 -1.34213719 -0.75571448  0.90373599 -1.38870598  0.97617502\n",
      "  1.29423087 -1.54559657 -0.06276777 -0.75286723  0.2421986  -0.34088785\n",
      "  0.05813063 -0.45592695  0.06883891  0.23184249 -0.12931228 -0.23542884\n",
      "  0.02862287 -0.34285704  0.88353915 -0.3292526  -1.64235158 -0.08904863\n",
      " -0.58957875  0.08136974  0.83116672 -0.06586488 -0.02600613]\n"
     ]
    }
   ],
   "source": [
    "print(Weights)"
   ]
  },
  {
   "cell_type": "code",
   "execution_count": 47,
   "metadata": {},
   "outputs": [],
   "source": [
    "def prdictor(W,X):\n",
    "    z = np.dot(W, X.T)\n",
    "    \n",
    "    yPred= sig_toGetProb(z)\n",
    "\n",
    "    prediction = np.zeros(len(z))\n",
    "    for i in range(len(z)):\n",
    "        prediction[i] = (0 if sig_toGetProb(z[i])<0.5 else 1)\n",
    "    \n",
    "    return prediction\n",
    "          \n"
   ]
  },
  {
   "cell_type": "code",
   "execution_count": 48,
   "metadata": {},
   "outputs": [
    {
     "name": "stdout",
     "output_type": "stream",
     "text": [
      "printing predicted zs before sig\n",
      "[ 8.53201401e+00 -1.75702109e+00  1.54146237e+01 -4.48819545e+00\n",
      " -1.14712748e+00 -1.51875033e+00 -1.47446001e+01  1.20653271e+01\n",
      "  5.23825504e+00  1.44464902e+01  1.24195611e+01  1.54784150e+01\n",
      " -4.06347841e+00  1.06967176e+01 -1.56124775e+00  3.22565935e+01\n",
      " -1.09044393e+00  3.16003927e+00 -4.50211259e+00  9.14206332e+00\n",
      "  5.93080759e+00  1.87238198e+00 -1.76753005e+00 -1.95635668e+00\n",
      " -1.35430348e+00 -1.61505605e+01  5.38401959e+00 -2.80025786e+00\n",
      " -4.81161231e-01 -2.53902721e+00  4.20645436e+01 -1.79716903e+00\n",
      " -2.94119879e+00  1.22641819e+01  5.79877769e+00  5.90187998e+00\n",
      "  3.04140045e+00 -8.05024118e+00 -9.70879755e+00  5.33082828e+00\n",
      "  2.17804746e+01 -1.10864701e+00 -2.00168392e+00  1.64956119e+01\n",
      "  1.38375140e+01 -9.42308412e+00 -2.89957516e+00  7.14721493e+00\n",
      " -1.38023395e+00  9.16605867e+00  1.92080539e+00  2.89803248e+00\n",
      " -1.74618942e+00 -1.92939666e+00 -1.57143670e+00 -2.63691263e+00\n",
      " -1.94708068e+00 -1.93866004e+00 -6.65711882e-01 -1.10694466e+01\n",
      " -3.00863396e+00  2.75004629e+01  1.97521575e-01 -3.11677538e+00\n",
      "  3.96563465e-02 -6.58554120e-01  2.24574071e+01 -9.68392547e-01\n",
      " -1.61458990e+00 -1.03999529e+00  1.30436558e+01 -1.29438601e+00\n",
      " -1.88198237e+00 -2.08978161e+00 -7.72090568e-01  5.10075672e+00\n",
      " -1.24493142e+00 -1.28521355e+00 -8.32567500e-01 -1.24124353e+00\n",
      " -8.51241007e+00  9.65905133e+00 -1.26805989e+00  8.05827941e+00\n",
      " -1.61793585e+00  9.50320593e+00 -2.83928525e+00  1.61067704e+01\n",
      " -1.30012373e+00 -1.15311116e+01  7.30082333e+00 -8.21223883e-01\n",
      " -7.60718861e+01  1.66136646e+00  6.39716435e+00  2.07241659e+00\n",
      " -4.00387962e+00 -4.63800112e+00  2.06608328e+00 -1.51884389e+00\n",
      " -1.16952443e+00  6.52771736e+00  5.62989345e+00 -3.68029449e+00\n",
      "  2.47099102e+01 -5.26171677e+00 -1.36631073e+00  1.18423979e+01\n",
      " -1.51043076e+00  9.21035278e+00  3.63968800e+01 -1.07883948e+00\n",
      "  1.16366423e+01  9.23842264e+00  1.31571337e+01  8.18288182e+00\n",
      " -1.89297541e-01 -8.72235086e+00  1.56172875e+01 -3.37564498e+00\n",
      "  8.48072835e-01 -9.39336390e-01  2.14642556e+01 -3.93672001e+00\n",
      "  1.24172637e+01 -8.18475647e-01  6.21231771e+00 -4.44316451e-01\n",
      " -6.74108723e+00 -3.58590507e+00 -2.13551245e+00  8.14286540e+00\n",
      "  1.10234330e+01  1.44193282e+01  7.37316927e+00  3.34324394e+01\n",
      "  6.46075480e+00 -1.51102359e+00  1.76384291e+01  1.67905811e+01\n",
      " -9.30014486e-01 -2.02058762e+00  9.57498029e+00 -1.91207022e+00\n",
      " -1.06364191e+00 -1.27100526e+00 -3.05832009e+00  1.18680053e+01\n",
      "  1.47798619e+01  7.21564508e+00  9.26844109e+00  2.36891915e+01\n",
      " -1.11616739e+01  2.89152839e+00 -3.27035114e+00 -7.38616866e-01\n",
      " -1.09017227e+00 -6.03342080e+00  3.55611961e+00  2.85403606e+01\n",
      " -1.52400742e+00  2.68474009e+01 -3.29578356e-01  6.60201366e+00\n",
      " -2.11951507e+00 -3.25982488e+00 -1.71262221e+00 -2.80515282e+00\n",
      "  2.06149564e+00 -6.74522082e-01 -1.57694506e+00  2.69074340e+01\n",
      " -1.20487108e+00  8.55226151e+00  1.71813210e+01  1.98847049e+01\n",
      " -1.17355265e+00 -1.65437858e+00 -7.12106067e+00 -1.47052148e+00\n",
      "  3.52493598e+00  1.08336743e+01 -1.59443214e+00  1.40653281e+01\n",
      "  2.54982082e+01 -3.46623454e+00 -5.01068450e+00  2.54111979e+01\n",
      " -2.24142100e+00 -1.07920967e+00 -1.24654294e+00  2.03157465e+01\n",
      "  3.47441386e+01 -1.71211335e+00 -4.61983044e+00 -1.93576581e+00\n",
      "  1.73209881e+01  1.02795727e+01  1.46561130e+01 -1.89582361e+00\n",
      "  7.08501543e-01  1.74866293e+01 -3.00615662e+00  2.32112480e+01\n",
      "  9.62488644e+00  9.20475925e+00 -1.62670503e+00 -8.50357840e-01\n",
      " -3.66563038e+00  4.80587589e+00  1.74765962e+00 -2.65147089e+01\n",
      "  1.11274223e+01 -1.18513922e+00 -1.88469251e+00 -1.77037938e+00\n",
      "  3.16977302e+01 -5.04131300e+00  6.94597674e+00 -1.59860463e+00\n",
      "  2.51605215e+01 -1.49258980e+00  1.29981824e+01  7.74980007e+00\n",
      " -1.74106805e+00 -1.87989576e+00 -1.25306599e+00  1.71539070e+01\n",
      " -1.95216283e+00 -3.95149608e+00 -1.55796910e+00 -3.17889929e+00\n",
      " -2.12324897e+00 -1.26144917e+00  2.75200776e+01 -6.26848535e-01\n",
      " -5.13106109e+00 -1.64500759e+00 -5.73749587e-01 -1.16272895e+01\n",
      " -1.05292597e+01 -1.30484747e+01  3.28944768e+00  8.20991966e+00\n",
      "  1.57327728e+01  9.13283719e+00  2.50777791e+00 -3.44222336e+00\n",
      " -3.76551701e+00  8.02806635e+00  6.84291302e+00  2.94751584e+01\n",
      " -1.52650346e+00 -1.33761157e+00  5.68801661e+00  8.00564612e+00\n",
      "  3.77801856e+01 -4.25422864e+00  3.59764932e+01 -1.01532942e+00\n",
      " -2.97256155e+00 -2.23795616e+00  2.15936597e-01 -3.09117670e+00\n",
      "  2.40150863e+00 -1.24861935e+00 -5.63384213e+00  4.20182603e+00\n",
      "  1.27627530e+00  5.75668604e+00 -1.66400425e+00  1.66972550e+01\n",
      "  8.45891409e-01  2.41985281e+01 -3.49413481e+00 -3.37027843e+00\n",
      "  1.31602736e+01 -2.14760547e+00  2.38497637e+01  1.68276294e+01\n",
      " -5.45510371e+00  4.96933579e+00  1.05366824e+01  1.67633818e+01\n",
      "  2.73510588e+00  1.26579395e+01 -2.06968696e+00  7.96608211e+00\n",
      " -2.76492109e+00 -1.23897424e+00  1.63681048e+00 -2.20725831e+00\n",
      " -1.26447317e+00 -2.96414836e+00  1.38953865e+01  2.09722119e+00\n",
      "  6.78755751e+00 -3.46552449e+00 -1.56211359e+00 -3.81753326e+00\n",
      " -1.78720788e-01  9.09957192e+00 -1.40923943e+00  1.95064010e+00\n",
      " -8.02079015e+00  6.38318758e+00 -1.07119133e+00  9.57744509e+00\n",
      "  8.04709726e+00  2.36168814e+01  2.14886135e+01 -2.74745179e-01\n",
      "  5.44505199e+00 -4.15061208e+00  1.20328940e+01 -2.70132289e+00\n",
      " -8.65285930e+00  2.49197414e-01  8.12252569e+00  1.45531803e+01\n",
      "  2.80630417e+01 -3.42154876e+00 -1.37089217e+00 -6.74767236e+00\n",
      "  3.88588234e-01  3.95104377e+01 -1.58671063e+00 -4.33544733e-01\n",
      "  4.13274105e+01  1.80835203e+01 -2.34854276e+00 -1.18992794e+00\n",
      " -1.33667137e+00 -2.02657227e+00  5.86853295e+00 -8.37880517e+00\n",
      " -1.71726095e+00 -1.57121824e+00  1.04694930e+01 -9.27493091e+00\n",
      "  1.76349530e+00  2.18090395e+01  1.59327325e+00 -4.31009047e+00\n",
      "  7.77882835e+00 -2.61905540e+00 -1.02691759e+00 -3.95483675e+00\n",
      "  1.70748484e+01  5.99698530e+00 -2.13679513e+00  2.05009528e+01\n",
      "  4.17381512e+00 -1.64720576e+00  4.47689944e+01  3.08639729e+01\n",
      "  8.09124719e+01 -2.17572377e+00 -7.11757216e+00 -7.54999982e-01\n",
      " -5.49588747e-02  5.82074798e+00  1.48029378e+01  1.33750706e+01\n",
      "  1.39211577e+01  5.04362494e+00  8.01932558e+00  1.04452405e+01\n",
      " -2.81848731e-01 -3.91431996e-01  8.61217748e+00 -2.07077643e+00\n",
      "  5.23497604e+00  1.12575473e+00 -5.82453067e-01  1.49097928e+01\n",
      " -2.23358571e+00 -9.74011656e-01 -1.80423945e+00 -1.42545735e+00\n",
      "  4.04502131e+01 -3.69397418e+00 -2.58560672e-01  1.25013253e+01]\n",
      "printing predicted zs after sig\n",
      "[9.99802981e-01 1.47163819e-01 9.99999798e-01 1.11159569e-02\n",
      " 2.41014151e-01 1.79645613e-01 3.94912926e-07 9.99994244e-01\n",
      " 9.94718528e-01 9.99999468e-01 9.99995961e-01 9.99999810e-01\n",
      " 1.68986512e-02 9.99977381e-01 1.73467677e-01 1.00000000e+00\n",
      " 2.51534692e-01 9.59302480e-01 1.09640104e-02 9.99892945e-01\n",
      " 9.97350702e-01 8.66733652e-01 1.45849760e-01 1.23861879e-01\n",
      " 2.05167696e-01 9.68056352e-08 9.95431628e-01 5.73102434e-02\n",
      " 3.81977955e-01 7.31671148e-02 1.00000000e+00 1.42196026e-01\n",
      " 5.01541334e-02 9.99995282e-01 9.96977903e-01 9.97273156e-01\n",
      " 9.54409804e-01 3.18923228e-04 6.07430251e-05 9.95183254e-01\n",
      " 1.00000000e+00 2.48123214e-01 1.19026235e-01 9.99999931e-01\n",
      " 9.99999022e-01 8.08297912e-05 5.21745686e-02 9.99213566e-01\n",
      " 2.00971429e-01 9.99895483e-01 8.72228218e-01 9.47749089e-01\n",
      " 1.48528469e-01 1.26817376e-01 1.72011676e-01 6.68002387e-02\n",
      " 1.24872029e-01 1.25795139e-01 3.39457686e-01 1.55809401e-05\n",
      " 4.70373402e-02 1.00000000e+00 5.49220471e-01 4.24205661e-02\n",
      " 5.09912788e-01 3.41064483e-01 1.00000000e+00 2.75201018e-01\n",
      " 1.65952341e-01 2.61150903e-01 9.99997836e-01 2.15111358e-01\n",
      " 1.32161341e-01 1.10093969e-01 3.16027048e-01 9.93944755e-01\n",
      " 2.23578768e-01 2.16664069e-01 3.03102460e-01 2.24219605e-01\n",
      " 2.00918540e-04 9.99936159e-01 2.19589548e-01 9.99683629e-01\n",
      " 1.65489739e-01 9.99925393e-01 5.52378261e-02 9.99999899e-01\n",
      " 2.14144194e-01 9.81968604e-06 9.99325472e-01 3.05503925e-01\n",
      " 9.17063964e-34 8.40421349e-01 9.98336496e-01 8.88193169e-01\n",
      " 1.79178133e-02 9.58427424e-03 8.87562685e-01 1.79631826e-01\n",
      " 2.36940956e-01 9.98539795e-01 9.96423877e-01 2.45953624e-02\n",
      " 1.00000000e+00 5.15963332e-03 2.03216557e-01 9.99992807e-01\n",
      " 1.80874964e-01 9.99900011e-01 1.00000000e+00 2.53725697e-01\n",
      " 9.99991164e-01 9.99902779e-01 9.99998068e-01 9.99720682e-01\n",
      " 4.52816427e-01 1.62877243e-04 9.99999835e-01 3.30653508e-02\n",
      " 7.00162719e-01 2.81034408e-01 1.00000000e+00 1.91386736e-02\n",
      " 9.99995952e-01 3.06087333e-01 9.97999424e-01 3.90712927e-01\n",
      " 1.17996807e-03 2.69643508e-02 1.05692811e-01 9.99709282e-01\n",
      " 9.99983685e-01 9.99999453e-01 9.99372519e-01 1.00000000e+00\n",
      " 9.98438826e-01 1.80787147e-01 9.99999978e-01 9.99999949e-01\n",
      " 2.82921776e-01 1.17058243e-01 9.99930560e-01 1.28748452e-01\n",
      " 2.56614095e-01 2.19085217e-01 4.48596275e-02 9.99992989e-01\n",
      " 9.99999619e-01 9.99265544e-01 9.99905653e-01 1.00000000e+00\n",
      " 1.42082455e-05 9.47426063e-01 3.66024441e-02 3.23306671e-01\n",
      " 2.51585840e-01 2.39154611e-03 9.72243051e-01 1.00000000e+00\n",
      " 1.78872164e-01 1.00000000e+00 4.18343219e-01 9.98644209e-01\n",
      " 1.07214479e-01 3.69754447e-02 1.52823912e-01 5.70463616e-02\n",
      " 8.87104046e-01 3.37485012e-01 1.71228572e-01 1.00000000e+00\n",
      " 2.30609811e-01 9.99806929e-01 9.99999965e-01 9.99999998e-01\n",
      " 2.36213426e-01 1.60518049e-01 8.07257184e-04 1.86863365e-01\n",
      " 9.71389007e-01 9.99980276e-01 1.68761240e-01 9.99999221e-01\n",
      " 1.00000000e+00 3.02883814e-02 6.62219284e-03 1.00000000e+00\n",
      " 9.60920448e-02 2.53655609e-01 2.23299146e-01 9.99999998e-01\n",
      " 1.00000000e+00 1.52889806e-01 9.75830396e-03 1.26113764e-01\n",
      " 9.99999970e-01 9.99965674e-01 9.99999569e-01 1.30581890e-01\n",
      " 6.70069971e-01 9.99999975e-01 4.71485115e-02 1.00000000e+00\n",
      " 9.99933940e-01 9.99899450e-01 1.64282239e-01 2.99357798e-01\n",
      " 2.49496240e-02 9.91884863e-01 8.51657369e-01 3.05357236e-12\n",
      " 9.99985297e-01 2.34129409e-01 1.31850812e-01 1.45495156e-01\n",
      " 1.00000000e+00 6.42372284e-03 9.99038426e-01 1.68176727e-01\n",
      " 1.00000000e+00 1.83533330e-01 9.99997736e-01 9.99569357e-01\n",
      " 1.49177324e-01 1.32400847e-01 2.22169853e-01 9.99999965e-01\n",
      " 1.24317715e-01 1.88632533e-02 1.73938261e-01 3.99675469e-02\n",
      " 1.06857595e-01 2.20724527e-01 1.00000000e+00 3.48225466e-01\n",
      " 5.87555954e-03 1.61784830e-01 3.60372078e-01 8.91925263e-06\n",
      " 2.67417000e-05 2.15336922e-06 9.64065025e-01 9.99728131e-01\n",
      " 9.99999853e-01 9.99891953e-01 9.24685285e-01 3.10016235e-02\n",
      " 2.26315887e-02 9.99673928e-01 9.98934147e-01 1.00000000e+00\n",
      " 1.78505847e-01 2.07903110e-01 9.96625126e-01 9.99666537e-01\n",
      " 1.00000000e+00 1.40051137e-02 1.00000000e+00 2.65938171e-01\n",
      " 4.86809576e-02 9.63934165e-02 5.53775356e-01 4.34726780e-02\n",
      " 9.16942272e-01 2.22939228e-01 3.56208023e-03 9.85252524e-01\n",
      " 7.81815083e-01 9.96848392e-01 1.59225206e-01 9.99999944e-01\n",
      " 6.99704562e-01 1.00000000e+00 2.94795746e-02 3.32373611e-02\n",
      " 9.99998074e-01 1.04555195e-01 1.00000000e+00 9.99999951e-01\n",
      " 4.25624042e-03 9.93100177e-01 9.99973456e-01 9.99999948e-01\n",
      " 9.39066654e-01 9.99996818e-01 1.12078187e-01 9.99653084e-01\n",
      " 5.92494736e-02 2.24614584e-01 8.37100472e-01 9.91005814e-02\n",
      " 2.20204822e-01 4.90720644e-02 9.99999077e-01 8.90632800e-01\n",
      " 9.98873550e-01 3.03092433e-02 1.73343570e-01 2.15091447e-02\n",
      " 4.55438352e-01 9.99888299e-01 1.96354046e-01 8.75516421e-01\n",
      " 3.28452393e-04 9.98313122e-01 2.55176591e-01 9.99930731e-01\n",
      " 9.99680073e-01 1.00000000e+00 1.00000000e+00 4.31742534e-01\n",
      " 9.95700946e-01 1.55104075e-02 9.99994055e-01 6.28953404e-02\n",
      " 1.74596334e-04 5.61978947e-01 9.99703310e-01 9.99999522e-01\n",
      " 1.00000000e+00 3.16287579e-02 2.02475740e-01 1.17223244e-03\n",
      " 5.95942799e-01 1.00000000e+00 1.69847191e-01 3.93280201e-01\n",
      " 1.00000000e+00 9.99999986e-01 8.71816712e-02 2.33271824e-01\n",
      " 2.08057983e-01 1.16441112e-01 9.97180952e-01 2.29631473e-04\n",
      " 1.52224308e-01 1.72042791e-01 9.99971611e-01 9.37363362e-05\n",
      " 8.53646882e-01 1.00000000e+00 8.31076128e-01 1.32542982e-02\n",
      " 9.99581673e-01 6.79220706e-02 2.63682131e-01 1.88015255e-02\n",
      " 9.99999962e-01 9.97519930e-01 1.05571631e-01 9.99999999e-01\n",
      " 9.84839945e-01 1.61486957e-01 1.00000000e+00 1.00000000e+00\n",
      " 1.00000000e+00 1.01951783e-01 8.10075934e-04 3.19732807e-01\n",
      " 4.86263739e-01 9.97043381e-01 9.99999627e-01 9.99998447e-01\n",
      " 9.99999100e-01 9.93591016e-01 9.99671066e-01 9.99970914e-01\n",
      " 4.30000593e-01 4.03372624e-01 9.99818156e-01 1.11969813e-01\n",
      " 9.94701274e-01 7.55054600e-01 3.58368338e-01 9.99999665e-01\n",
      " 9.67747629e-02 2.74081617e-01 1.41335782e-01 1.93807468e-01\n",
      " 1.00000000e+00 2.42693063e-02 4.35717560e-01 9.99996278e-01]\n",
      "[1. 0. 1. 0. 0. 0. 0. 1. 1. 1. 1. 1. 0. 1. 0. 1. 0. 1. 0. 1. 1. 1. 0. 0.\n",
      " 0. 0. 1. 0. 0. 0. 1. 0. 0. 1. 1. 1. 1. 0. 0. 1. 1. 0. 0. 1. 1. 0. 0. 1.\n",
      " 0. 1. 1. 1. 0. 0. 0. 0. 0. 0. 0. 0. 0. 1. 1. 0. 1. 0. 1. 0. 0. 0. 1. 0.\n",
      " 0. 0. 0. 1. 0. 0. 0. 0. 0. 1. 0. 1. 0. 1. 0. 1. 0. 0. 1. 0. 0. 1. 1. 1.\n",
      " 0. 0. 1. 0. 0. 1. 1. 0. 1. 0. 0. 1. 0. 1. 1. 0. 1. 1. 1. 1. 0. 0. 1. 0.\n",
      " 1. 0. 1. 0. 1. 0. 1. 0. 0. 0. 0. 1. 1. 1. 1. 1. 1. 0. 1. 1. 0. 0. 1. 0.\n",
      " 0. 0. 0. 1. 1. 1. 1. 1. 0. 1. 0. 0. 0. 0. 1. 1. 0. 1. 0. 1. 0. 0. 0. 0.\n",
      " 1. 0. 0. 1. 0. 1. 1. 1. 0. 0. 0. 0. 1. 1. 0. 1. 1. 0. 0. 1. 0. 0. 0. 1.\n",
      " 1. 0. 0. 0. 1. 1. 1. 0. 1. 1. 0. 1. 1. 1. 0. 0. 0. 1. 1. 0. 1. 0. 0. 0.\n",
      " 1. 0. 1. 0. 1. 0. 1. 1. 0. 0. 0. 1. 0. 0. 0. 0. 0. 0. 1. 0. 0. 0. 0. 0.\n",
      " 0. 0. 1. 1. 1. 1. 1. 0. 0. 1. 1. 1. 0. 0. 1. 1. 1. 0. 1. 0. 0. 0. 1. 0.\n",
      " 1. 0. 0. 1. 1. 1. 0. 1. 1. 1. 0. 0. 1. 0. 1. 1. 0. 1. 1. 1. 1. 1. 0. 1.\n",
      " 0. 0. 1. 0. 0. 0. 1. 1. 1. 0. 0. 0. 0. 1. 0. 1. 0. 1. 0. 1. 1. 1. 1. 0.\n",
      " 1. 0. 1. 0. 0. 1. 1. 1. 1. 0. 0. 0. 1. 1. 0. 0. 1. 1. 0. 0. 0. 0. 1. 0.\n",
      " 0. 0. 1. 0. 1. 1. 1. 0. 1. 0. 0. 0. 1. 1. 0. 1. 1. 0. 1. 1. 1. 0. 0. 0.\n",
      " 0. 1. 1. 1. 1. 1. 1. 1. 0. 0. 1. 0. 1. 1. 0. 1. 0. 0. 0. 0. 1. 0. 0. 1.]\n"
     ]
    }
   ],
   "source": [
    "preditcted = prdictor(Weights,d_test[:,:-1])\n",
    "print(preditcted)"
   ]
  },
  {
   "cell_type": "code",
   "execution_count": 50,
   "metadata": {},
   "outputs": [
    {
     "name": "stdout",
     "output_type": "stream",
     "text": [
      "[[  0. 202.]\n",
      " [  1. 182.]]\n"
     ]
    }
   ],
   "source": [
    "\n",
    "(unique, counts) = np.unique(preditcted, return_counts=True)\n",
    "\n",
    "frequencies = np.asarray((unique, counts)).T\n",
    "\n",
    "\n",
    "print(frequencies)"
   ]
  },
  {
   "cell_type": "code",
   "execution_count": 51,
   "metadata": {},
   "outputs": [],
   "source": [
    "def acc(pred,act):\n",
    "    countCorrect = 0\n",
    "    for i in range(len(pred)):\n",
    "        if(int(pred[i]) ==int(act[i])):\n",
    "            countCorrect +=1\n",
    "    return countCorrect/ len(pred)\n",
    "        "
   ]
  },
  {
   "cell_type": "code",
   "execution_count": null,
   "metadata": {},
   "outputs": [],
   "source": []
  },
  {
   "cell_type": "code",
   "execution_count": 52,
   "metadata": {},
   "outputs": [],
   "source": [
    "accuraacy = acc(preditcted,d_test[:, -1])"
   ]
  },
  {
   "cell_type": "code",
   "execution_count": 53,
   "metadata": {},
   "outputs": [
    {
     "name": "stdout",
     "output_type": "stream",
     "text": [
      "0.890625\n"
     ]
    }
   ],
   "source": [
    "print(accuraacy)"
   ]
  },
  {
   "cell_type": "code",
   "execution_count": null,
   "metadata": {},
   "outputs": [],
   "source": []
  },
  {
   "cell_type": "code",
   "execution_count": null,
   "metadata": {},
   "outputs": [],
   "source": []
  },
  {
   "cell_type": "code",
   "execution_count": 60,
   "metadata": {},
   "outputs": [],
   "source": [
    "corMat =dataset.corr()\n"
   ]
  },
  {
   "cell_type": "code",
   "execution_count": 61,
   "metadata": {},
   "outputs": [
    {
     "data": {
      "text/html": [
       "<div>\n",
       "<style scoped>\n",
       "    .dataframe tbody tr th:only-of-type {\n",
       "        vertical-align: middle;\n",
       "    }\n",
       "\n",
       "    .dataframe tbody tr th {\n",
       "        vertical-align: top;\n",
       "    }\n",
       "\n",
       "    .dataframe thead th {\n",
       "        text-align: right;\n",
       "    }\n",
       "</style>\n",
       "<table border=\"1\" class=\"dataframe\">\n",
       "  <thead>\n",
       "    <tr style=\"text-align: right;\">\n",
       "      <th></th>\n",
       "      <th>Time</th>\n",
       "      <th>V1</th>\n",
       "      <th>V2</th>\n",
       "      <th>V3</th>\n",
       "      <th>V4</th>\n",
       "      <th>V5</th>\n",
       "      <th>V6</th>\n",
       "      <th>V7</th>\n",
       "      <th>V8</th>\n",
       "      <th>V9</th>\n",
       "      <th>...</th>\n",
       "      <th>V22</th>\n",
       "      <th>V23</th>\n",
       "      <th>V24</th>\n",
       "      <th>V25</th>\n",
       "      <th>V26</th>\n",
       "      <th>V27</th>\n",
       "      <th>V28</th>\n",
       "      <th>Amount</th>\n",
       "      <th>Class</th>\n",
       "      <th>rand</th>\n",
       "    </tr>\n",
       "  </thead>\n",
       "  <tbody>\n",
       "    <tr>\n",
       "      <th>Time</th>\n",
       "      <td>1.000000</td>\n",
       "      <td>0.117396</td>\n",
       "      <td>-1.059333e-02</td>\n",
       "      <td>-4.196182e-01</td>\n",
       "      <td>-1.052602e-01</td>\n",
       "      <td>1.730721e-01</td>\n",
       "      <td>-6.301647e-02</td>\n",
       "      <td>8.471437e-02</td>\n",
       "      <td>-3.694943e-02</td>\n",
       "      <td>-8.660434e-03</td>\n",
       "      <td>...</td>\n",
       "      <td>1.440591e-01</td>\n",
       "      <td>5.114236e-02</td>\n",
       "      <td>-1.618187e-02</td>\n",
       "      <td>-2.330828e-01</td>\n",
       "      <td>-4.140710e-02</td>\n",
       "      <td>-5.134591e-03</td>\n",
       "      <td>-9.412688e-03</td>\n",
       "      <td>-0.010596</td>\n",
       "      <td>-0.012323</td>\n",
       "      <td>0.000488</td>\n",
       "    </tr>\n",
       "    <tr>\n",
       "      <th>V1</th>\n",
       "      <td>0.117396</td>\n",
       "      <td>1.000000</td>\n",
       "      <td>4.697350e-17</td>\n",
       "      <td>-1.424390e-15</td>\n",
       "      <td>1.755316e-17</td>\n",
       "      <td>6.391162e-17</td>\n",
       "      <td>2.398071e-16</td>\n",
       "      <td>1.991550e-15</td>\n",
       "      <td>-9.490675e-17</td>\n",
       "      <td>2.169581e-16</td>\n",
       "      <td>...</td>\n",
       "      <td>7.477367e-17</td>\n",
       "      <td>9.808705e-16</td>\n",
       "      <td>7.354269e-17</td>\n",
       "      <td>-9.805358e-16</td>\n",
       "      <td>-8.621897e-17</td>\n",
       "      <td>3.208233e-17</td>\n",
       "      <td>9.820892e-16</td>\n",
       "      <td>-0.227709</td>\n",
       "      <td>-0.101347</td>\n",
       "      <td>0.003732</td>\n",
       "    </tr>\n",
       "  </tbody>\n",
       "</table>\n",
       "<p>2 rows × 32 columns</p>\n",
       "</div>"
      ],
      "text/plain": [
       "          Time        V1            V2            V3            V4  \\\n",
       "Time  1.000000  0.117396 -1.059333e-02 -4.196182e-01 -1.052602e-01   \n",
       "V1    0.117396  1.000000  4.697350e-17 -1.424390e-15  1.755316e-17   \n",
       "\n",
       "                V5            V6            V7            V8            V9  \\\n",
       "Time  1.730721e-01 -6.301647e-02  8.471437e-02 -3.694943e-02 -8.660434e-03   \n",
       "V1    6.391162e-17  2.398071e-16  1.991550e-15 -9.490675e-17  2.169581e-16   \n",
       "\n",
       "      ...           V22           V23           V24           V25  \\\n",
       "Time  ...  1.440591e-01  5.114236e-02 -1.618187e-02 -2.330828e-01   \n",
       "V1    ...  7.477367e-17  9.808705e-16  7.354269e-17 -9.805358e-16   \n",
       "\n",
       "               V26           V27           V28    Amount     Class      rand  \n",
       "Time -4.140710e-02 -5.134591e-03 -9.412688e-03 -0.010596 -0.012323  0.000488  \n",
       "V1   -8.621897e-17  3.208233e-17  9.820892e-16 -0.227709 -0.101347  0.003732  \n",
       "\n",
       "[2 rows x 32 columns]"
      ]
     },
     "execution_count": 61,
     "metadata": {},
     "output_type": "execute_result"
    }
   ],
   "source": [
    "corMat[:2]"
   ]
  },
  {
   "cell_type": "code",
   "execution_count": 62,
   "metadata": {},
   "outputs": [
    {
     "data": {
      "text/plain": [
       "(1340, 31)"
      ]
     },
     "execution_count": 62,
     "metadata": {},
     "output_type": "execute_result"
    }
   ],
   "source": [
    "d_test.shape"
   ]
  },
  {
   "cell_type": "code",
   "execution_count": 63,
   "metadata": {},
   "outputs": [
    {
     "name": "stdout",
     "output_type": "stream",
     "text": [
      "[0.26455561 0.77423369 0.45615033 0.56843395 0.0187898  0.6176355\n",
      " 0.61209572 0.616934   0.94374808 0.6818203  0.3595079  0.43703195\n",
      " 0.6976312  0.06022547 0.66676672 0.67063787 0.21038256 0.1289263\n",
      " 0.31542835 0.36371077 0.57019677 0.43860151 0.98837384 0.10204481\n",
      " 0.20887676 0.16130952 0.65310833 0.2532916  0.46631077 0.24442559]\n",
      "(2010, 30)\n",
      "(1340, 30)\n"
     ]
    }
   ],
   "source": [
    "currentData = d_train\n",
    "iterations = 1000000\n",
    "M = len(currentData)\n",
    "W = np.random.rand(np.shape(currentData)[1] -1)\n",
    "print(W)\n",
    "Y = currentData[:, -1]\n",
    "X = currentData[:,:-1]\n",
    "print(X.shape)\n",
    "print(d_test[:,:-1].shape)"
   ]
  },
  {
   "cell_type": "code",
   "execution_count": 68,
   "metadata": {},
   "outputs": [],
   "source": [
    "from sklearn.datasets import load_iris\n",
    "from sklearn.linear_model import LogisticRegression\n",
    "clf = LogisticRegression( solver= 'liblinear').fit(X, Y)\n",
    "pred =clf.predict(d_test[:,:-1])\n",
    "\n",
    "\n",
    "\n"
   ]
  },
  {
   "cell_type": "code",
   "execution_count": 69,
   "metadata": {},
   "outputs": [
    {
     "name": "stdout",
     "output_type": "stream",
     "text": [
      "[[-2.74493599e-05 -3.99060847e-02  3.83558724e-02 -1.15966290e-01\n",
      "   8.16021135e-02 -1.06607705e-02 -3.03991427e-02 -5.77914969e-02\n",
      "  -4.59321761e-03 -4.18958694e-02 -8.47908562e-02  5.83304879e-02\n",
      "  -9.67525306e-02 -7.80300352e-03 -1.39565165e-01 -7.92279280e-03\n",
      "  -6.09254610e-02 -8.98214613e-02 -2.11314597e-02  8.70004876e-03\n",
      "   5.30995656e-03  1.30071424e-02  4.05705948e-03 -1.90244084e-03\n",
      "  -3.00751689e-03 -2.76662448e-03  1.46563898e-03  4.54509657e-03\n",
      "   2.33825830e-03 -1.98064313e-04]]\n"
     ]
    }
   ],
   "source": [
    "W=clf.coef_\n",
    "print(W)"
   ]
  },
  {
   "cell_type": "code",
   "execution_count": 70,
   "metadata": {},
   "outputs": [],
   "source": [
    "accuraacy = acc(pred,d_test[:, -1])"
   ]
  },
  {
   "cell_type": "code",
   "execution_count": 71,
   "metadata": {},
   "outputs": [
    {
     "name": "stdout",
     "output_type": "stream",
     "text": [
      "0.9477611940298507\n"
     ]
    }
   ],
   "source": [
    "print(accuraacy)"
   ]
  },
  {
   "cell_type": "code",
   "execution_count": null,
   "metadata": {},
   "outputs": [],
   "source": []
  },
  {
   "cell_type": "code",
   "execution_count": null,
   "metadata": {},
   "outputs": [],
   "source": []
  },
  {
   "cell_type": "code",
   "execution_count": null,
   "metadata": {},
   "outputs": [],
   "source": []
  },
  {
   "cell_type": "code",
   "execution_count": null,
   "metadata": {},
   "outputs": [],
   "source": []
  }
 ],
 "metadata": {
  "kernelspec": {
   "display_name": "Python 3",
   "language": "python",
   "name": "python3"
  },
  "language_info": {
   "codemirror_mode": {
    "name": "ipython",
    "version": 3
   },
   "file_extension": ".py",
   "mimetype": "text/x-python",
   "name": "python",
   "nbconvert_exporter": "python",
   "pygments_lexer": "ipython3",
   "version": "3.7.1"
  }
 },
 "nbformat": 4,
 "nbformat_minor": 2
}
